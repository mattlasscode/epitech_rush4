{
  "cells": [
    {
      "cell_type": "markdown",
      "id": "6783fafc",
      "metadata": {},
      "source": [
        "# Compréhension initiale des données Camp Market\n",
        "\n",
        "Ce carnet prépare l'analyse exploratoire de la base `Camp_Market.csv`. Avant tout nettoyage, l'objectif est de comprendre la structure du fichier, la signification des variables et l'ampleur des données disponibles."
      ]
    },
    {
      "cell_type": "markdown",
      "id": "64b8726a",
      "metadata": {},
      "source": [
        "## Aperçu du jeu de données\n",
        "\n",
        "Le fichier contient les informations clients d'une campagne marketing, avec des indicateurs socio-démographiques et la trace des interactions commerciales. Les colonnes principales sont :\n",
        "\n",
        "- `ID` : identifiant unique du client.\n",
        "- `Year_Birth` : année de naissance.\n",
        "- `Education`, `Marital_Status` : niveau d'étude et situation familiale.\n",
        "- `Income` : revenu annuel déclaré.\n",
        "- `Kidhome`, `Teenhome` : nombre d'enfants et d'adolescents au foyer.\n",
        "- `Dt_Customer` : date d'inscription dans le programme de fidélité.\n",
        "- `Recency` : nombre de jours depuis le dernier achat.\n",
        "- `Mnt...` : montants dépensés par famille de produits (vin, fruits, etc.).\n",
        "- `Num...Purchases` : volume d'achats par canal (web, catalogue, magasin).\n",
        "- `AcceptedCmp...`, `Response` : participation aux campagnes marketing.\n",
        "- `Complain` : indicateur de réclamation récente.\n",
        "\n",
        "Les variables `Z_CostContact` et `Z_Revenue` sont constantes et servent de références internes au dossier marketing."
      ]
    },
    {
      "cell_type": "code",
      "execution_count": null,
      "id": "b713b2c7",
      "metadata": {},
      "outputs": [],
      "source": [
        "import pandas as pd\n",
        "import numpy as np\n",
        "\n",
        "# Configuration d'affichage\n",
        "pd.set_option('display.max_columns', None)\n",
        "pd.set_option('display.precision', 2)\n",
        "\n",
        "file_path = 'Camp_Market.csv'\n"
      ]
    },
    {
      "cell_type": "code",
      "execution_count": null,
      "id": "8167f946",
      "metadata": {},
      "outputs": [],
      "source": [
        "# Chargement des données avec le séparateur ';' fourni\n",
        "df = pd.read_csv(file_path, sep=';')\n",
        "\n",
        "df.head()\n"
      ]
    },
    {
      "cell_type": "code",
      "execution_count": null,
      "id": "8908720c",
      "metadata": {},
      "outputs": [],
      "source": [
        "# Dimensions globales et types de données\n",
        "row_count, col_count = df.shape\n",
        "print(f'Nombre de lignes : {row_count}')\n",
        "print(f'Nombre de colonnes : {col_count}')\n",
        "\n",
        "dtypes = df.dtypes.to_frame('dtype')\n",
        "dtypes\n"
      ]
    },
    {
      "cell_type": "code",
      "execution_count": null,
      "id": "51359d56",
      "metadata": {},
      "outputs": [],
      "source": [
        "# Statistiques descriptives pour les variables numériques\n",
        "df.describe().T\n"
      ]
    },
    {
      "cell_type": "code",
      "execution_count": null,
      "id": "b3b7d113",
      "metadata": {},
      "outputs": [],
      "source": [
        "# Statistiques descriptives pour les variables catégorielles\n",
        "categorical_summary = (\n",
        "    df.select_dtypes(include='object')\n",
        "      .nunique()\n",
        "      .to_frame(name='modalites_uniques')\n",
        ")\n",
        "categorical_summary\n"
      ]
    },
    {
      "cell_type": "code",
      "execution_count": null,
      "id": "b3f13865",
      "metadata": {},
      "outputs": [],
      "source": [
        "# Répartition des principales catégories\n",
        "for column in ['Education', 'Marital_Status', 'Response']:\n",
        "    print(f\"\\nRépartition pour {column} :\")\n",
        "    print(df[column].value_counts(dropna=False))\n"
      ]
    },
    {
      "cell_type": "code",
      "execution_count": null,
      "id": "d8b48645",
      "metadata": {},
      "outputs": [],
      "source": [
        "# Vérification rapide des valeurs manquantes\n",
        "missing = df.isna().sum()\n",
        "missing[missing > 0].sort_values(ascending=False)\n"
      ]
    },
    {
      "cell_type": "markdown",
      "id": "2ba35067",
      "metadata": {},
      "source": [
        "## Points clés à retenir avant le nettoyage\n",
        "\n",
        "- Le carnet précédent résume le volume de données et le type de chaque variable.\n",
        "- Les montants dépensés (`Mnt...`) et les canaux d'achat (`Num...Purchases`) offrent un premier aperçu du comportement client.\n",
        "- Les distributions des variables catégorielles permettront de repérer des modalités rares ou dominantes avant l'EDA.\n",
        "- La dernière cellule liste les colonnes susceptibles de contenir des valeurs manquantes."
      ]
    }
  ],
  "metadata": {
    "kernelspec": {
      "display_name": "Python 3",
      "language": "python",
      "name": "python3"
    },
    "language_info": {
      "name": "python",
      "pygments_lexer": "ipython3"
    }
  },
  "nbformat": 4,
  "nbformat_minor": 5
}
